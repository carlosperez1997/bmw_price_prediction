{
 "cells": [
  {
   "cell_type": "code",
   "execution_count": 2,
   "metadata": {},
   "outputs": [],
   "source": [
    "import numpy as np \n",
    "import pandas as pd \n",
    "import pickle"
   ]
  },
  {
   "cell_type": "code",
   "execution_count": 16,
   "metadata": {},
   "outputs": [],
   "source": [
    "model_features = ['tipo_coche_coupe',\n",
    " 'modelo_M',\n",
    " 'camara_trasera',\n",
    " 'year',\n",
    " 'gps',\n",
    " 'tipo_coche_van',\n",
    " 'aire_acondicionado',\n",
    " 'scaled_power',\n",
    " 'tipo_coche_estate',\n",
    " 'elevalunas_electrico',\n",
    " 'tipo_coche_convertible',\n",
    " 'asientos_traseros_plegables',\n",
    " 'bluetooth',\n",
    " 'tipo_coche_suv',\n",
    " 'km',\n",
    " 'modelo_ordinal',\n",
    " 'alerta_lim_velocidad',\n",
    " 'tipo_coche_sedan',\n",
    " 'antiquity',\n",
    " 'volante_regulable',\n",
    " 'tipo_coche_subcompact',\n",
    " 'tipo_coche_hatchback']"
   ]
  },
  {
   "cell_type": "code",
   "execution_count": 23,
   "metadata": {},
   "outputs": [],
   "source": [
    "model = 6 #'modelo_750'\n",
    "fuel = 'tipo_gasolina_electro'\n",
    "typecar = 'tipo_coche_subcompact'\n",
    "color = 'color_black'\n",
    "km = 100000 \n",
    "power = 300\n",
    "antiquity = 2\n",
    "extras1 = ['elevalunas_electrico']\n",
    "extras2 = ['volante_regulable']"
   ]
  },
  {
   "cell_type": "code",
   "execution_count": 24,
   "metadata": {},
   "outputs": [
    {
     "name": "stdout",
     "output_type": "stream",
     "text": [
      "6\n",
      "[0.00000000e+00 0.00000000e+00 0.00000000e+00 0.00000000e+00\n",
      " 0.00000000e+00 0.00000000e+00 0.00000000e+00 7.09219858e-01\n",
      " 0.00000000e+00 1.00000000e+00 0.00000000e+00 0.00000000e+00\n",
      " 0.00000000e+00 0.00000000e+00 1.00000000e+05 6.00000000e+00\n",
      " 0.00000000e+00 0.00000000e+00 2.00000000e+00 1.00000000e+00\n",
      " 1.00000000e+00 0.00000000e+00]\n",
      "48048.20265386167\n"
     ]
    }
   ],
   "source": [
    "#print(click)\n",
    "x_test = np.array([ 0 for i in range(len( model_features ))], dtype='float64')\n",
    "    \n",
    "# Model\n",
    "\n",
    "index = model_features.index('modelo_ordinal')\n",
    "x_test[index] = model\n",
    "print(model)\n",
    "\n",
    "# Fuel\n",
    "#index = model_features.index(fuel)\n",
    "#x_test[index] = 1\n",
    "\n",
    "# Typecar\n",
    "index = model_features.index(typecar)\n",
    "x_test[index] = 1\n",
    "\n",
    "# Color\n",
    "#index = model_features.index(color)\n",
    "#x_test[index] = 1\n",
    "\n",
    "# km\n",
    "#km_scaler = pickle.load(open('km_scaler.pkl','rb'))\n",
    "\n",
    "if km is None:\n",
    "    km = 50000\n",
    "    km_scaled = 0.5\n",
    "else:\n",
    "    km_scaled = km_scaler.transform( np.array(km).reshape(1, -1) )\n",
    "    \n",
    "#index = model_features.index('scaled_km')\n",
    "#x_test[index] = km_scaled\n",
    "\n",
    "index = model_features.index('km')\n",
    "x_test[index] = km\n",
    "\n",
    "\n",
    "# Power\n",
    "power_scaler = pickle.load(open('power_scaler.pkl','rb'))\n",
    "if power is None:\n",
    "    power = 100\n",
    "\n",
    "power_scaled = power_scaler.transform( np.array(power).reshape(1, -1) )\n",
    "index = model_features.index('scaled_power')\n",
    "x_test[index] = power_scaled\n",
    "\n",
    "# Antiquity\n",
    "if antiquity is None:\n",
    "    antiquity = 2\n",
    "\n",
    "index = model_features.index('antiquity')\n",
    "x_test[index] = antiquity\n",
    "\n",
    "# Extras\n",
    "if extras1 is not None:\n",
    "    #print(extras1)\n",
    "    for extra in extras1:\n",
    "        index = model_features.index(extra)\n",
    "        x_test[index] = 1\n",
    "if extras2 is not None:\n",
    "    #print(extras2)\n",
    "    for extra in extras2:\n",
    "        index = model_features.index(extra)\n",
    "        x_test[index] = 1\n",
    "\n",
    "print(x_test)\n",
    "\n",
    "filename = 'bmw_price_prediction_model.sav'\n",
    "model = pickle.load(open(filename, 'rb'))\n",
    "result = model.predict(x_test.reshape(1, -1))\n",
    "\n",
    "print(result[0])"
   ]
  },
  {
   "cell_type": "code",
   "execution_count": 20,
   "metadata": {},
   "outputs": [],
   "source": []
  },
  {
   "cell_type": "code",
   "execution_count": 21,
   "metadata": {},
   "outputs": [],
   "source": []
  },
  {
   "cell_type": "code",
   "execution_count": 22,
   "metadata": {},
   "outputs": [
    {
     "name": "stdout",
     "output_type": "stream",
     "text": [
      "[0.00000000e+00 0.00000000e+00 0.00000000e+00 0.00000000e+00\n",
      " 0.00000000e+00 0.00000000e+00 0.00000000e+00 2.36406619e-01\n",
      " 0.00000000e+00 1.00000000e+00 0.00000000e+00 0.00000000e+00\n",
      " 0.00000000e+00 0.00000000e+00 1.00000000e+05 6.00000000e+00\n",
      " 0.00000000e+00 0.00000000e+00 2.00000000e+00 1.00000000e+00\n",
      " 1.00000000e+00 0.00000000e+00]\n",
      "16166.18268975714\n"
     ]
    }
   ],
   "source": []
  }
 ],
 "metadata": {
  "kernelspec": {
   "display_name": "Python 3",
   "language": "python",
   "name": "python3"
  },
  "language_info": {
   "codemirror_mode": {
    "name": "ipython",
    "version": 3
   },
   "file_extension": ".py",
   "mimetype": "text/x-python",
   "name": "python",
   "nbconvert_exporter": "python",
   "pygments_lexer": "ipython3",
   "version": "3.8.5"
  },
  "orig_nbformat": 2
 },
 "nbformat": 4,
 "nbformat_minor": 2
}
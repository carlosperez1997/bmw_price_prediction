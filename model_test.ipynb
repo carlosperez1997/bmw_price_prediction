{
 "cells": [
  {
   "cell_type": "code",
   "execution_count": 1,
   "metadata": {},
   "outputs": [],
   "source": [
    "import numpy as np \n",
    "import pandas as pd \n",
    "import pickle"
   ]
  },
  {
   "cell_type": "code",
   "execution_count": 2,
   "metadata": {},
   "outputs": [],
   "source": [
    "model_features = ['antiquity',\n",
    " 'asientos_traseros_plegables',\n",
    " 'tipo_coche_hatchback',\n",
    " 'tipo_coche_estate',\n",
    " 'volante_regulable',\n",
    " 'elevalunas_electrico',\n",
    " 'tipo_coche_suv',\n",
    " 'bluetooth',\n",
    " 'aire_acondicionado',\n",
    " 'modelo_ordinal',\n",
    " 'alerta_lim_velocidad',\n",
    " 'km_log',\n",
    " 'tipo_coche_coupe',\n",
    " 'gps',\n",
    " 'tipo_coche_subcompact',\n",
    " 'camara_trasera',\n",
    " 'tipo_coche_van',\n",
    " 'modelo_M',\n",
    " 'scaled_power',\n",
    " 'tipo_coche_convertible',\n",
    " 'tipo_coche_sedan']"
   ]
  },
  {
   "cell_type": "code",
   "execution_count": 3,
   "metadata": {},
   "outputs": [],
   "source": [
    "model = 6 #'modelo_750'\n",
    "fuel = 'tipo_gasolina_electro'\n",
    "typecar = 'tipo_coche_subcompact'\n",
    "color = 'color_black'\n",
    "km = 100000 \n",
    "power = 300\n",
    "antiquity = 2\n",
    "extras1 = ['elevalunas_electrico']\n",
    "extras2 = ['volante_regulable']"
   ]
  },
  {
   "cell_type": "code",
   "execution_count": 4,
   "metadata": {},
   "outputs": [
    {
     "name": "stdout",
     "output_type": "stream",
     "text": [
      "6\n",
      "[ 2.          0.          0.          0.          1.          1.\n",
      "  0.          0.          0.          6.          0.         11.51292546\n",
      "  0.          0.          1.          0.          0.          0.\n",
      "  0.70921986  0.          0.        ]\n",
      "28802.559778006456\n"
     ]
    }
   ],
   "source": [
    "#print(click)\n",
    "x_test = np.array([ 0 for i in range(len( model_features ))], dtype='float64')\n",
    "    \n",
    "# Model\n",
    "\n",
    "index = model_features.index('modelo_ordinal')\n",
    "x_test[index] = model\n",
    "print(model)\n",
    "\n",
    "# Fuel\n",
    "#index = model_features.index(fuel)\n",
    "#x_test[index] = 1\n",
    "\n",
    "# Typecar\n",
    "index = model_features.index(typecar)\n",
    "x_test[index] = 1\n",
    "\n",
    "# Color\n",
    "#index = model_features.index(color)\n",
    "#x_test[index] = 1\n",
    "\n",
    "# km\n",
    "#km_scaler = pickle.load(open('km_scaler.pkl','rb'))\n",
    "\n",
    "if km is None:\n",
    "    km = 50000\n",
    "    km_log = np.log(km)\n",
    "else:\n",
    "    km_log = np.log(km)\n",
    "        \n",
    "#index = model_features.index('scaled_km')\n",
    "#x_test[index] = km_scaled\n",
    "\n",
    "index = model_features.index('km_log')\n",
    "x_test[index] = km_log\n",
    "\n",
    "# Power\n",
    "power_scaler = pickle.load(open('power_scaler.pkl','rb'))\n",
    "if power is None:\n",
    "    power = 100\n",
    "\n",
    "power_scaled = power_scaler.transform( np.array(power).reshape(1, -1) )\n",
    "index = model_features.index('scaled_power')\n",
    "x_test[index] = power_scaled\n",
    "\n",
    "# Antiquity\n",
    "if antiquity is None:\n",
    "    antiquity = 2\n",
    "\n",
    "index = model_features.index('antiquity')\n",
    "x_test[index] = antiquity\n",
    "\n",
    "# Extras\n",
    "if extras1 is not None:\n",
    "    #print(extras1)\n",
    "    for extra in extras1:\n",
    "        index = model_features.index(extra)\n",
    "        x_test[index] = 1\n",
    "if extras2 is not None:\n",
    "    #print(extras2)\n",
    "    for extra in extras2:\n",
    "        index = model_features.index(extra)\n",
    "        x_test[index] = 1\n",
    "\n",
    "print(x_test)\n",
    "\n",
    "filename = 'bmw_price_prediction_mid_model.sav'\n",
    "model = pickle.load(open(filename, 'rb'))\n",
    "result = model.predict(x_test.reshape(1, -1))\n",
    "\n",
    "print(result[0])"
   ]
  }
 ],
 "metadata": {
  "kernelspec": {
   "display_name": "Python 3.8.5 64-bit ('anaconda3': virtualenv)",
   "name": "python385jvsc74a57bd01f1ade11a66f379951eb785ed5ab9940defd282e53b6a037182efca5c962c31b"
  },
  "language_info": {
   "codemirror_mode": {
    "name": "ipython",
    "version": 3
   },
   "file_extension": ".py",
   "mimetype": "text/x-python",
   "name": "python",
   "nbconvert_exporter": "python",
   "pygments_lexer": "ipython3",
   "version": "3.8.5"
  },
  "metadata": {
   "interpreter": {
    "hash": "1f1ade11a66f379951eb785ed5ab9940defd282e53b6a037182efca5c962c31b"
   }
  },
  "orig_nbformat": 2
 },
 "nbformat": 4,
 "nbformat_minor": 2
}
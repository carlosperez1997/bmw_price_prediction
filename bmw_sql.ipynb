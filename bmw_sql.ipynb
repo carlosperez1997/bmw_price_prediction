{
 "cells": [
  {
   "cell_type": "markdown",
   "metadata": {},
   "source": [
    "# **BMW SQL QUERIES**"
   ]
  },
  {
   "cell_type": "code",
   "execution_count": null,
   "metadata": {},
   "outputs": [],
   "source": [
    "La primera parte del ejercicio consistirá en pasar esta info a una tabla en SQL y realizar las siguientes consultas:\n",
    "• Hacer un listado de los vehículos agrupados por el modelo y tipo de gasolina.\n",
    "• ¿Cuantos vehículos tienen potencia superior a los 150, que sean de tipo de coche convertible y tengan el volante regulable?\n",
    "• ¿Podrías indicar si hay algún caso que la fecha de registro sea superior a la fecha de venta?, de ser así indicar el precio medio encontrado.\n",
    "• Indicar el precio medio de los vehículos con aire acondicionado.\n",
    "• ¿Existe alguna diferencia significativa entre el color del vehículos y el precio? agrupar los vehículos por su color y su precio\n",
    "medio para responder la pregunta."
   ]
  }
 ],
 "metadata": {
  "kernelspec": {
   "display_name": "Python 3",
   "name": "python3"
  },
  "language_info": {
   "name": "python",
   "nbconvert_exporter": "python",
   "version": "3.8.5-final"
  },
  "orig_nbformat": 2
 },
 "nbformat": 4,
 "nbformat_minor": 2
}